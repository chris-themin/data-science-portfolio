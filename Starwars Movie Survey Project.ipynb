{
 "cells": [
  {
   "cell_type": "markdown",
   "metadata": {},
   "source": [
    "## Author: Christian Themin\n",
    "## Starwars Movie Analysis with Python\n"
   ]
  },
  {
   "cell_type": "markdown",
   "metadata": {},
   "source": [
    "This project examines Starwars movie data by performing the first steps of the data science process, including data cleansing and exploration.\n",
    "\n",
    "The file contains the data behind America's Favorite Star Wars Movies (and Least Favorite Characters). The authors collected the data by running a poll through SurveyMonkey Audience, surveying 1,186 respondents.\n",
    "\n",
    "The analysis will help to define interesting metrics in answering client's questions as follow:\n",
    "1. How many people have seen the movie?\n",
    "2. Which episode of the movie has the highest rank?\n",
    "3. Which Starwars character is the most favorite?\n",
    "4. What's the average income of people who watched the movie?\n",
    "5. Explore people's Demographic towards the Starwars Character"
   ]
  },
  {
   "cell_type": "markdown",
   "metadata": {},
   "source": [
    "## Data Extraction & Discovering"
   ]
  },
  {
   "cell_type": "code",
   "execution_count": 39,
   "metadata": {},
   "outputs": [],
   "source": [
    "# Import the required library for analyis\n",
    "import pandas as pd\n",
    "import numpy as np\n",
    "import matplotlib.pyplot as plt"
   ]
  },
  {
   "cell_type": "code",
   "execution_count": 40,
   "metadata": {},
   "outputs": [],
   "source": [
    "# Retrieve the data and rename the columns\n",
    "filename = 'StarWars.csv'\n",
    "starwars = pd.read_csv(filename, sep=',', decimal='.', skiprows=2,\n",
    "                      names=['Resp ID', 'Have you seen the movie?', 'Are you a starwars fan?', \n",
    "                            'Seen starwars Ep1', 'Seen starwars Ep2','Seen starwars Ep3',\n",
    "                            'Seen starwars Ep4', 'Seen starwars Ep5', 'Seen starwars Ep6',\n",
    "                            'Rank starwars Ep1', 'Rank starwars Ep2', 'Rank starwars Ep3', \n",
    "                            'Rank starwars Ep4', 'Rank starwars Ep5', 'Rank starwars Ep6', \n",
    "                            'Han', 'Luke', 'Princess', 'Anakin', 'Obi', 'Emperor', 'Darth',\n",
    "                            'Lando', 'Boba', 'C3P0', 'R2D2', 'Jar', 'Padme', 'Yoda',\n",
    "                            'Which character shot first?', 'Are you familiar with EU?', 'Are you a fan of EU?',\n",
    "                            'Are you a fan of startrek?', 'Gender', 'Age', 'Income', 'Education', 'Location'])"
   ]
  },
  {
   "cell_type": "code",
   "execution_count": 41,
   "metadata": {
    "scrolled": true
   },
   "outputs": [
    {
     "data": {
      "text/html": [
       "<div>\n",
       "<style scoped>\n",
       "    .dataframe tbody tr th:only-of-type {\n",
       "        vertical-align: middle;\n",
       "    }\n",
       "\n",
       "    .dataframe tbody tr th {\n",
       "        vertical-align: top;\n",
       "    }\n",
       "\n",
       "    .dataframe thead th {\n",
       "        text-align: right;\n",
       "    }\n",
       "</style>\n",
       "<table border=\"1\" class=\"dataframe\">\n",
       "  <thead>\n",
       "    <tr style=\"text-align: right;\">\n",
       "      <th></th>\n",
       "      <th>Resp ID</th>\n",
       "      <th>Have you seen the movie?</th>\n",
       "      <th>Are you a starwars fan?</th>\n",
       "      <th>Seen starwars Ep1</th>\n",
       "      <th>Seen starwars Ep2</th>\n",
       "      <th>Seen starwars Ep3</th>\n",
       "      <th>Seen starwars Ep4</th>\n",
       "      <th>Seen starwars Ep5</th>\n",
       "      <th>Seen starwars Ep6</th>\n",
       "      <th>Rank starwars Ep1</th>\n",
       "      <th>...</th>\n",
       "      <th>Yoda</th>\n",
       "      <th>Which character shot first?</th>\n",
       "      <th>Are you familiar with EU?</th>\n",
       "      <th>Are you a fan of EU?</th>\n",
       "      <th>Are you a fan of startrek?</th>\n",
       "      <th>Gender</th>\n",
       "      <th>Age</th>\n",
       "      <th>Income</th>\n",
       "      <th>Education</th>\n",
       "      <th>Location</th>\n",
       "    </tr>\n",
       "  </thead>\n",
       "  <tbody>\n",
       "    <tr>\n",
       "      <th>0</th>\n",
       "      <td>3292879998</td>\n",
       "      <td>Yes</td>\n",
       "      <td>Yes</td>\n",
       "      <td>Star Wars: Episode I  The Phantom Menace</td>\n",
       "      <td>Star Wars: Episode II  Attack of the Clones</td>\n",
       "      <td>Star Wars: Episode III  Revenge of the Sith</td>\n",
       "      <td>Star Wars: Episode IV  A New Hope</td>\n",
       "      <td>Star Wars: Episode V The Empire Strikes Back</td>\n",
       "      <td>Star Wars: Episode VI Return of the Jedi</td>\n",
       "      <td>3.0</td>\n",
       "      <td>...</td>\n",
       "      <td>Very favorably</td>\n",
       "      <td>I don't understand this question</td>\n",
       "      <td>Yes</td>\n",
       "      <td>No</td>\n",
       "      <td>No</td>\n",
       "      <td>Male</td>\n",
       "      <td>18-29</td>\n",
       "      <td>NaN</td>\n",
       "      <td>High school degree</td>\n",
       "      <td>South Atlantic</td>\n",
       "    </tr>\n",
       "    <tr>\n",
       "      <th>1</th>\n",
       "      <td>3292879538</td>\n",
       "      <td>No</td>\n",
       "      <td>NaN</td>\n",
       "      <td>NaN</td>\n",
       "      <td>NaN</td>\n",
       "      <td>NaN</td>\n",
       "      <td>NaN</td>\n",
       "      <td>NaN</td>\n",
       "      <td>NaN</td>\n",
       "      <td>NaN</td>\n",
       "      <td>...</td>\n",
       "      <td>NaN</td>\n",
       "      <td>NaN</td>\n",
       "      <td>NaN</td>\n",
       "      <td>NaN</td>\n",
       "      <td>Yes</td>\n",
       "      <td>Male</td>\n",
       "      <td>18-29</td>\n",
       "      <td>$0 - $24,999</td>\n",
       "      <td>Bachelor degree</td>\n",
       "      <td>West South Central</td>\n",
       "    </tr>\n",
       "    <tr>\n",
       "      <th>2</th>\n",
       "      <td>3292765271</td>\n",
       "      <td>Yes</td>\n",
       "      <td>No</td>\n",
       "      <td>Star Wars: Episode I  The Phantom Menace</td>\n",
       "      <td>Star Wars: Episode II  Attack of the Clones</td>\n",
       "      <td>Star Wars: Episode III  Revenge of the Sith</td>\n",
       "      <td>NaN</td>\n",
       "      <td>NaN</td>\n",
       "      <td>NaN</td>\n",
       "      <td>1.0</td>\n",
       "      <td>...</td>\n",
       "      <td>Unfamiliar (N/A)</td>\n",
       "      <td>I don't understand this question</td>\n",
       "      <td>No</td>\n",
       "      <td>NaN</td>\n",
       "      <td>No</td>\n",
       "      <td>Male</td>\n",
       "      <td>18-29</td>\n",
       "      <td>$0 - $24,999</td>\n",
       "      <td>High school degree</td>\n",
       "      <td>West North Central</td>\n",
       "    </tr>\n",
       "    <tr>\n",
       "      <th>3</th>\n",
       "      <td>3292763116</td>\n",
       "      <td>Yes</td>\n",
       "      <td>Yes</td>\n",
       "      <td>Star Wars: Episode I  The Phantom Menace</td>\n",
       "      <td>Star Wars: Episode II  Attack of the Clones</td>\n",
       "      <td>Star Wars: Episode III  Revenge of the Sith</td>\n",
       "      <td>Star Wars: Episode IV  A New Hope</td>\n",
       "      <td>Star Wars: Episode V The Empire Strikes Back</td>\n",
       "      <td>Star Wars: Episode VI Return of the Jedi</td>\n",
       "      <td>5.0</td>\n",
       "      <td>...</td>\n",
       "      <td>Very favorably</td>\n",
       "      <td>I don't understand this question</td>\n",
       "      <td>No</td>\n",
       "      <td>NaN</td>\n",
       "      <td>Yes</td>\n",
       "      <td>Male</td>\n",
       "      <td>18-29</td>\n",
       "      <td>$100,000 - $149,999</td>\n",
       "      <td>Some college or Associate degree</td>\n",
       "      <td>West North Central</td>\n",
       "    </tr>\n",
       "    <tr>\n",
       "      <th>4</th>\n",
       "      <td>3292731220</td>\n",
       "      <td>Yes</td>\n",
       "      <td>Yes</td>\n",
       "      <td>Star Wars: Episode I  The Phantom Menace</td>\n",
       "      <td>Star Wars: Episode II  Attack of the Clones</td>\n",
       "      <td>Star Wars: Episode III  Revenge of the Sith</td>\n",
       "      <td>Star Wars: Episode IV  A New Hope</td>\n",
       "      <td>Star Wars: Episode V The Empire Strikes Back</td>\n",
       "      <td>Star Wars: Episode VI Return of the Jedi</td>\n",
       "      <td>5.0</td>\n",
       "      <td>...</td>\n",
       "      <td>Somewhat favorably</td>\n",
       "      <td>Greedo</td>\n",
       "      <td>Yes</td>\n",
       "      <td>No</td>\n",
       "      <td>No</td>\n",
       "      <td>Male</td>\n",
       "      <td>18-29</td>\n",
       "      <td>$100,000 - $149,999</td>\n",
       "      <td>Some college or Associate degree</td>\n",
       "      <td>West North Central</td>\n",
       "    </tr>\n",
       "  </tbody>\n",
       "</table>\n",
       "<p>5 rows × 38 columns</p>\n",
       "</div>"
      ],
      "text/plain": [
       "      Resp ID Have you seen the movie? Are you a starwars fan?  \\\n",
       "0  3292879998                      Yes                     Yes   \n",
       "1  3292879538                       No                     NaN   \n",
       "2  3292765271                      Yes                      No   \n",
       "3  3292763116                      Yes                     Yes   \n",
       "4  3292731220                      Yes                     Yes   \n",
       "\n",
       "                          Seen starwars Ep1  \\\n",
       "0  Star Wars: Episode I  The Phantom Menace   \n",
       "1                                       NaN   \n",
       "2  Star Wars: Episode I  The Phantom Menace   \n",
       "3  Star Wars: Episode I  The Phantom Menace   \n",
       "4  Star Wars: Episode I  The Phantom Menace   \n",
       "\n",
       "                             Seen starwars Ep2  \\\n",
       "0  Star Wars: Episode II  Attack of the Clones   \n",
       "1                                          NaN   \n",
       "2  Star Wars: Episode II  Attack of the Clones   \n",
       "3  Star Wars: Episode II  Attack of the Clones   \n",
       "4  Star Wars: Episode II  Attack of the Clones   \n",
       "\n",
       "                             Seen starwars Ep3  \\\n",
       "0  Star Wars: Episode III  Revenge of the Sith   \n",
       "1                                          NaN   \n",
       "2  Star Wars: Episode III  Revenge of the Sith   \n",
       "3  Star Wars: Episode III  Revenge of the Sith   \n",
       "4  Star Wars: Episode III  Revenge of the Sith   \n",
       "\n",
       "                   Seen starwars Ep4  \\\n",
       "0  Star Wars: Episode IV  A New Hope   \n",
       "1                                NaN   \n",
       "2                                NaN   \n",
       "3  Star Wars: Episode IV  A New Hope   \n",
       "4  Star Wars: Episode IV  A New Hope   \n",
       "\n",
       "                              Seen starwars Ep5  \\\n",
       "0  Star Wars: Episode V The Empire Strikes Back   \n",
       "1                                           NaN   \n",
       "2                                           NaN   \n",
       "3  Star Wars: Episode V The Empire Strikes Back   \n",
       "4  Star Wars: Episode V The Empire Strikes Back   \n",
       "\n",
       "                          Seen starwars Ep6  Rank starwars Ep1  ...  \\\n",
       "0  Star Wars: Episode VI Return of the Jedi                3.0  ...   \n",
       "1                                       NaN                NaN  ...   \n",
       "2                                       NaN                1.0  ...   \n",
       "3  Star Wars: Episode VI Return of the Jedi                5.0  ...   \n",
       "4  Star Wars: Episode VI Return of the Jedi                5.0  ...   \n",
       "\n",
       "                 Yoda       Which character shot first?  \\\n",
       "0      Very favorably  I don't understand this question   \n",
       "1                 NaN                               NaN   \n",
       "2    Unfamiliar (N/A)  I don't understand this question   \n",
       "3      Very favorably  I don't understand this question   \n",
       "4  Somewhat favorably                            Greedo   \n",
       "\n",
       "   Are you familiar with EU?  Are you a fan of EU?  \\\n",
       "0                        Yes                    No   \n",
       "1                        NaN                   NaN   \n",
       "2                         No                   NaN   \n",
       "3                         No                   NaN   \n",
       "4                        Yes                    No   \n",
       "\n",
       "   Are you a fan of startrek? Gender    Age               Income  \\\n",
       "0                          No   Male  18-29                  NaN   \n",
       "1                         Yes   Male  18-29         $0 - $24,999   \n",
       "2                          No   Male  18-29         $0 - $24,999   \n",
       "3                         Yes   Male  18-29  $100,000 - $149,999   \n",
       "4                          No   Male  18-29  $100,000 - $149,999   \n",
       "\n",
       "                          Education            Location  \n",
       "0                High school degree      South Atlantic  \n",
       "1                   Bachelor degree  West South Central  \n",
       "2                High school degree  West North Central  \n",
       "3  Some college or Associate degree  West North Central  \n",
       "4  Some college or Associate degree  West North Central  \n",
       "\n",
       "[5 rows x 38 columns]"
      ]
     },
     "execution_count": 41,
     "metadata": {},
     "output_type": "execute_result"
    }
   ],
   "source": [
    "# Check the first few rows of the data\n",
    "starwars.head()"
   ]
  },
  {
   "cell_type": "code",
   "execution_count": 42,
   "metadata": {},
   "outputs": [
    {
     "data": {
      "text/html": [
       "<div>\n",
       "<style scoped>\n",
       "    .dataframe tbody tr th:only-of-type {\n",
       "        vertical-align: middle;\n",
       "    }\n",
       "\n",
       "    .dataframe tbody tr th {\n",
       "        vertical-align: top;\n",
       "    }\n",
       "\n",
       "    .dataframe thead th {\n",
       "        text-align: right;\n",
       "    }\n",
       "</style>\n",
       "<table border=\"1\" class=\"dataframe\">\n",
       "  <thead>\n",
       "    <tr style=\"text-align: right;\">\n",
       "      <th></th>\n",
       "      <th>Resp ID</th>\n",
       "      <th>Rank starwars Ep1</th>\n",
       "      <th>Rank starwars Ep2</th>\n",
       "      <th>Rank starwars Ep3</th>\n",
       "      <th>Rank starwars Ep4</th>\n",
       "      <th>Rank starwars Ep5</th>\n",
       "      <th>Rank starwars Ep6</th>\n",
       "    </tr>\n",
       "  </thead>\n",
       "  <tbody>\n",
       "    <tr>\n",
       "      <th>count</th>\n",
       "      <td>1.186000e+03</td>\n",
       "      <td>835.000000</td>\n",
       "      <td>836.000000</td>\n",
       "      <td>835.000000</td>\n",
       "      <td>836.000000</td>\n",
       "      <td>836.000000</td>\n",
       "      <td>836.000000</td>\n",
       "    </tr>\n",
       "    <tr>\n",
       "      <th>mean</th>\n",
       "      <td>3.290128e+09</td>\n",
       "      <td>3.732934</td>\n",
       "      <td>4.087321</td>\n",
       "      <td>4.341317</td>\n",
       "      <td>3.272727</td>\n",
       "      <td>2.513158</td>\n",
       "      <td>3.047847</td>\n",
       "    </tr>\n",
       "    <tr>\n",
       "      <th>std</th>\n",
       "      <td>1.055639e+06</td>\n",
       "      <td>1.656122</td>\n",
       "      <td>1.365365</td>\n",
       "      <td>1.400464</td>\n",
       "      <td>1.825901</td>\n",
       "      <td>1.578620</td>\n",
       "      <td>1.666897</td>\n",
       "    </tr>\n",
       "    <tr>\n",
       "      <th>min</th>\n",
       "      <td>3.288373e+09</td>\n",
       "      <td>1.000000</td>\n",
       "      <td>1.000000</td>\n",
       "      <td>1.000000</td>\n",
       "      <td>1.000000</td>\n",
       "      <td>1.000000</td>\n",
       "      <td>1.000000</td>\n",
       "    </tr>\n",
       "    <tr>\n",
       "      <th>25%</th>\n",
       "      <td>3.289451e+09</td>\n",
       "      <td>3.000000</td>\n",
       "      <td>3.000000</td>\n",
       "      <td>3.000000</td>\n",
       "      <td>2.000000</td>\n",
       "      <td>1.000000</td>\n",
       "      <td>2.000000</td>\n",
       "    </tr>\n",
       "    <tr>\n",
       "      <th>50%</th>\n",
       "      <td>3.290147e+09</td>\n",
       "      <td>4.000000</td>\n",
       "      <td>4.000000</td>\n",
       "      <td>5.000000</td>\n",
       "      <td>3.000000</td>\n",
       "      <td>2.000000</td>\n",
       "      <td>3.000000</td>\n",
       "    </tr>\n",
       "    <tr>\n",
       "      <th>75%</th>\n",
       "      <td>3.290814e+09</td>\n",
       "      <td>5.000000</td>\n",
       "      <td>5.000000</td>\n",
       "      <td>6.000000</td>\n",
       "      <td>5.000000</td>\n",
       "      <td>3.000000</td>\n",
       "      <td>4.000000</td>\n",
       "    </tr>\n",
       "    <tr>\n",
       "      <th>max</th>\n",
       "      <td>3.292880e+09</td>\n",
       "      <td>6.000000</td>\n",
       "      <td>6.000000</td>\n",
       "      <td>6.000000</td>\n",
       "      <td>6.000000</td>\n",
       "      <td>6.000000</td>\n",
       "      <td>6.000000</td>\n",
       "    </tr>\n",
       "  </tbody>\n",
       "</table>\n",
       "</div>"
      ],
      "text/plain": [
       "            Resp ID  Rank starwars Ep1  Rank starwars Ep2  Rank starwars Ep3  \\\n",
       "count  1.186000e+03         835.000000         836.000000         835.000000   \n",
       "mean   3.290128e+09           3.732934           4.087321           4.341317   \n",
       "std    1.055639e+06           1.656122           1.365365           1.400464   \n",
       "min    3.288373e+09           1.000000           1.000000           1.000000   \n",
       "25%    3.289451e+09           3.000000           3.000000           3.000000   \n",
       "50%    3.290147e+09           4.000000           4.000000           5.000000   \n",
       "75%    3.290814e+09           5.000000           5.000000           6.000000   \n",
       "max    3.292880e+09           6.000000           6.000000           6.000000   \n",
       "\n",
       "       Rank starwars Ep4  Rank starwars Ep5  Rank starwars Ep6  \n",
       "count         836.000000         836.000000         836.000000  \n",
       "mean            3.272727           2.513158           3.047847  \n",
       "std             1.825901           1.578620           1.666897  \n",
       "min             1.000000           1.000000           1.000000  \n",
       "25%             2.000000           1.000000           2.000000  \n",
       "50%             3.000000           2.000000           3.000000  \n",
       "75%             5.000000           3.000000           4.000000  \n",
       "max             6.000000           6.000000           6.000000  "
      ]
     },
     "execution_count": 42,
     "metadata": {},
     "output_type": "execute_result"
    }
   ],
   "source": [
    "# Perform descriptive analysis\n",
    "starwars.describe()"
   ]
  },
  {
   "cell_type": "code",
   "execution_count": 43,
   "metadata": {},
   "outputs": [
    {
     "data": {
      "text/plain": [
       "Resp ID                          int64\n",
       "Have you seen the movie?        object\n",
       "Are you a starwars fan?         object\n",
       "Seen starwars Ep1               object\n",
       "Seen starwars Ep2               object\n",
       "Seen starwars Ep3               object\n",
       "Seen starwars Ep4               object\n",
       "Seen starwars Ep5               object\n",
       "Seen starwars Ep6               object\n",
       "Rank starwars Ep1              float64\n",
       "Rank starwars Ep2              float64\n",
       "Rank starwars Ep3              float64\n",
       "Rank starwars Ep4              float64\n",
       "Rank starwars Ep5              float64\n",
       "Rank starwars Ep6              float64\n",
       "Han                             object\n",
       "Luke                            object\n",
       "Princess                        object\n",
       "Anakin                          object\n",
       "Obi                             object\n",
       "Emperor                         object\n",
       "Darth                           object\n",
       "Lando                           object\n",
       "Boba                            object\n",
       "C3P0                            object\n",
       "R2D2                            object\n",
       "Jar                             object\n",
       "Padme                           object\n",
       "Yoda                            object\n",
       "Which character shot first?     object\n",
       "Are you familiar with EU?       object\n",
       "Are you a fan of EU?            object\n",
       "Are you a fan of startrek?      object\n",
       "Gender                          object\n",
       "Age                             object\n",
       "Income                          object\n",
       "Education                       object\n",
       "Location                        object\n",
       "dtype: object"
      ]
     },
     "execution_count": 43,
     "metadata": {},
     "output_type": "execute_result"
    }
   ],
   "source": [
    "# Check the data types\n",
    "starwars.dtypes"
   ]
  },
  {
   "cell_type": "markdown",
   "metadata": {},
   "source": [
    "## Data Cleaning & Exploration"
   ]
  },
  {
   "cell_type": "markdown",
   "metadata": {},
   "source": [
    "### 1. Explore the variable \"Have you seen the movie?\"."
   ]
  },
  {
   "cell_type": "code",
   "execution_count": 44,
   "metadata": {},
   "outputs": [
    {
     "data": {
      "text/plain": [
       "Yes     935\n",
       "No      250\n",
       "Yes       1\n",
       "Name: Have you seen the movie?, dtype: int64"
      ]
     },
     "execution_count": 44,
     "metadata": {},
     "output_type": "execute_result"
    }
   ],
   "source": [
    "# Check the data\n",
    "starwars['Have you seen the movie?'].value_counts(dropna=False)"
   ]
  },
  {
   "cell_type": "code",
   "execution_count": 45,
   "metadata": {},
   "outputs": [],
   "source": [
    "# Remove the extra-white space\n",
    "starwars['Have you seen the movie?'] = starwars['Have you seen the movie?'].str.strip()"
   ]
  },
  {
   "cell_type": "code",
   "execution_count": 46,
   "metadata": {},
   "outputs": [
    {
     "data": {
      "text/plain": [
       "Yes    936\n",
       "No     250\n",
       "Name: Have you seen the movie?, dtype: int64"
      ]
     },
     "execution_count": 46,
     "metadata": {},
     "output_type": "execute_result"
    }
   ],
   "source": [
    "# Recheck the value\n",
    "starwars['Have you seen the movie?'].value_counts(dropna=False)"
   ]
  },
  {
   "cell_type": "code",
   "execution_count": 47,
   "metadata": {},
   "outputs": [
    {
     "data": {
      "image/png": "[encoded data removed]",
      "text/plain": [
       "<Figure size 432x288 with 1 Axes>"
      ]
     },
     "metadata": {},
     "output_type": "display_data"
    }
   ],
   "source": [
    "# Plot the data\n",
    "starwars['Have you seen the movie?'].value_counts().plot(kind='pie', autopct = '%.2f')\n",
    "plt.show()"
   ]
  },
  {
   "cell_type": "markdown",
   "metadata": {},
   "source": [
    "78.92% of the participants have seen the movie.<br>\n",
    "21.08% of the participants have not seen the movie."
   ]
  },
  {
   "cell_type": "markdown",
   "metadata": {},
   "source": [
    "## 2. Explore the variable \"Are you a starwars fan?\"."
   ]
  },
  {
   "cell_type": "code",
   "execution_count": 48,
   "metadata": {},
   "outputs": [
    {
     "data": {
      "text/plain": [
       "Yes     551\n",
       "NaN     350\n",
       "No      283\n",
       "Noo       1\n",
       "Yess      1\n",
       "Name: Are you a starwars fan?, dtype: int64"
      ]
     },
     "execution_count": 48,
     "metadata": {},
     "output_type": "execute_result"
    }
   ],
   "source": [
    "# Check the data\n",
    "starwars['Are you a starwars fan?'].value_counts(dropna=False)"
   ]
  },
  {
   "cell_type": "code",
   "execution_count": 49,
   "metadata": {},
   "outputs": [],
   "source": [
    "# Replace the invalid value to the correct one\n",
    "starwars['Are you a starwars fan?'].replace('Yess', 'Yes', inplace=True)\n",
    "starwars['Are you a starwars fan?'].replace('Noo', 'No', inplace=True)\n",
    "starwars['Are you a starwars fan?'].fillna(value = 'No answer', inplace=True)"
   ]
  },
  {
   "cell_type": "code",
   "execution_count": 50,
   "metadata": {},
   "outputs": [
    {
     "data": {
      "text/plain": [
       "Yes          552\n",
       "No answer    350\n",
       "No           284\n",
       "Name: Are you a starwars fan?, dtype: int64"
      ]
     },
     "execution_count": 50,
     "metadata": {},
     "output_type": "execute_result"
    }
   ],
   "source": [
    "# Recheck the data\n",
    "starwars['Are you a starwars fan?'].value_counts(dropna=False)"
   ]
  },
  {
   "cell_type": "code",
   "execution_count": 51,
   "metadata": {
    "scrolled": true
   },
   "outputs": [
    {
     "data": {
      "image/png": "[encoded data removed]",
      "text/plain": [
       "<Figure size 432x288 with 1 Axes>"
      ]
     },
     "metadata": {},
     "output_type": "display_data"
    }
   ],
   "source": [
    "# Plot the data\n",
    "starwars['Are you a starwars fan?'].value_counts().plot(kind='pie', autopct='%.02f')\n",
    "plt.show()"
   ]
  },
  {
   "cell_type": "markdown",
   "metadata": {},
   "source": [
    "46.54% of the participants are Starwars fans.<br>\n",
    "23.95% of the participants are not Starwars fans.<br>\n",
    "29.51% of the participants did not answer."
   ]
  },
  {
   "cell_type": "markdown",
   "metadata": {},
   "source": [
    "## 3. Explore the variable \"Seen starwars Ep1\" to \"Seen starwars Ep6\"."
   ]
  },
  {
   "cell_type": "markdown",
   "metadata": {},
   "source": [
    "These variables are boolean type of data, thus, we can set the value to 0 for not seen and 1 for seen."
   ]
  },
  {
   "cell_type": "code",
   "execution_count": 52,
   "metadata": {
    "scrolled": true
   },
   "outputs": [],
   "source": [
    "# Set 0 and 1 value on the seen starwars Ep 1 to 6\n",
    "starwars.loc[:,'Seen starwars Ep1':'Seen starwars Ep6'] = np.where(starwars.loc[:, 'Seen starwars Ep1':'Seen starwars Ep6'].isnull(), 0, 1)"
   ]
  },
  {
   "cell_type": "code",
   "execution_count": 53,
   "metadata": {},
   "outputs": [],
   "source": [
    "# Group the data into a new variable\n",
    "seen_movies = starwars.loc[:, 'Seen starwars Ep1':'Seen starwars Ep6']"
   ]
  },
  {
   "cell_type": "code",
   "execution_count": 54,
   "metadata": {},
   "outputs": [
    {
     "data": {
      "text/html": [
       "<div>\n",
       "<style scoped>\n",
       "    .dataframe tbody tr th:only-of-type {\n",
       "        vertical-align: middle;\n",
       "    }\n",
       "\n",
       "    .dataframe tbody tr th {\n",
       "        vertical-align: top;\n",
       "    }\n",
       "\n",
       "    .dataframe thead th {\n",
       "        text-align: right;\n",
       "    }\n",
       "</style>\n",
       "<table border=\"1\" class=\"dataframe\">\n",
       "  <thead>\n",
       "    <tr style=\"text-align: right;\">\n",
       "      <th></th>\n",
       "      <th>Seen starwars Ep1</th>\n",
       "      <th>Seen starwars Ep2</th>\n",
       "      <th>Seen starwars Ep3</th>\n",
       "      <th>Seen starwars Ep4</th>\n",
       "      <th>Seen starwars Ep5</th>\n",
       "      <th>Seen starwars Ep6</th>\n",
       "    </tr>\n",
       "  </thead>\n",
       "  <tbody>\n",
       "    <tr>\n",
       "      <th>0</th>\n",
       "      <td>1</td>\n",
       "      <td>1</td>\n",
       "      <td>1</td>\n",
       "      <td>1</td>\n",
       "      <td>1</td>\n",
       "      <td>1</td>\n",
       "    </tr>\n",
       "    <tr>\n",
       "      <th>1</th>\n",
       "      <td>0</td>\n",
       "      <td>0</td>\n",
       "      <td>0</td>\n",
       "      <td>0</td>\n",
       "      <td>0</td>\n",
       "      <td>0</td>\n",
       "    </tr>\n",
       "    <tr>\n",
       "      <th>2</th>\n",
       "      <td>1</td>\n",
       "      <td>1</td>\n",
       "      <td>1</td>\n",
       "      <td>0</td>\n",
       "      <td>0</td>\n",
       "      <td>0</td>\n",
       "    </tr>\n",
       "    <tr>\n",
       "      <th>3</th>\n",
       "      <td>1</td>\n",
       "      <td>1</td>\n",
       "      <td>1</td>\n",
       "      <td>1</td>\n",
       "      <td>1</td>\n",
       "      <td>1</td>\n",
       "    </tr>\n",
       "    <tr>\n",
       "      <th>4</th>\n",
       "      <td>1</td>\n",
       "      <td>1</td>\n",
       "      <td>1</td>\n",
       "      <td>1</td>\n",
       "      <td>1</td>\n",
       "      <td>1</td>\n",
       "    </tr>\n",
       "  </tbody>\n",
       "</table>\n",
       "</div>"
      ],
      "text/plain": [
       "   Seen starwars Ep1  Seen starwars Ep2  Seen starwars Ep3  Seen starwars Ep4  \\\n",
       "0                  1                  1                  1                  1   \n",
       "1                  0                  0                  0                  0   \n",
       "2                  1                  1                  1                  0   \n",
       "3                  1                  1                  1                  1   \n",
       "4                  1                  1                  1                  1   \n",
       "\n",
       "   Seen starwars Ep5  Seen starwars Ep6  \n",
       "0                  1                  1  \n",
       "1                  0                  0  \n",
       "2                  0                  0  \n",
       "3                  1                  1  \n",
       "4                  1                  1  "
      ]
     },
     "execution_count": 54,
     "metadata": {},
     "output_type": "execute_result"
    }
   ],
   "source": [
    "seen_movies.head()"
   ]
  },
  {
   "cell_type": "code",
   "execution_count": 55,
   "metadata": {},
   "outputs": [
    {
     "data": {
      "text/plain": [
       "Seen starwars Ep1    673\n",
       "Seen starwars Ep2    571\n",
       "Seen starwars Ep3    550\n",
       "Seen starwars Ep4    607\n",
       "Seen starwars Ep5    758\n",
       "Seen starwars Ep6    738\n",
       "dtype: int64"
      ]
     },
     "execution_count": 55,
     "metadata": {},
     "output_type": "execute_result"
    }
   ],
   "source": [
    "# Summarise the total of the value\n",
    "seen_movies.sum()"
   ]
  },
  {
   "cell_type": "code",
   "execution_count": 56,
   "metadata": {},
   "outputs": [
    {
     "data": {
      "image/png": "[encoded data removed]",
      "text/plain": [
       "<Figure size 432x288 with 1 Axes>"
      ]
     },
     "metadata": {
      "needs_background": "light"
     },
     "output_type": "display_data"
    }
   ],
   "source": [
    "# Plot the data\n",
    "seen_movies.sum().sort_values().plot(kind='barh')\n",
    "plt.show()"
   ]
  },
  {
   "cell_type": "markdown",
   "metadata": {},
   "source": [
    "The result of our survey shows that Starwars Episode 5 is the most seen movie compared to the other Starwars episodes."
   ]
  },
  {
   "cell_type": "markdown",
   "metadata": {},
   "source": [
    "## 4. Explore the variables of Movie ranking fom Ep 1 to Ep 6."
   ]
  },
  {
   "cell_type": "code",
   "execution_count": 57,
   "metadata": {},
   "outputs": [],
   "source": [
    "# Group the variables into one\n",
    "group_rank = starwars.loc[:,'Rank starwars Ep1':'Rank starwars Ep6']"
   ]
  },
  {
   "cell_type": "code",
   "execution_count": 58,
   "metadata": {
    "scrolled": true
   },
   "outputs": [
    {
     "data": {
      "text/plain": [
       "Rank starwars Ep1    3.732934\n",
       "Rank starwars Ep2    4.087321\n",
       "Rank starwars Ep3    4.341317\n",
       "Rank starwars Ep4    3.272727\n",
       "Rank starwars Ep5    2.513158\n",
       "Rank starwars Ep6    3.047847\n",
       "dtype: float64"
      ]
     },
     "execution_count": 58,
     "metadata": {},
     "output_type": "execute_result"
    }
   ],
   "source": [
    "# Discover the average value of each variable\n",
    "group_rank.mean()"
   ]
  },
  {
   "cell_type": "code",
   "execution_count": 59,
   "metadata": {},
   "outputs": [
    {
     "data": {
      "image/png": "[encoded data removed]",
      "text/plain": [
       "<Figure size 432x288 with 1 Axes>"
      ]
     },
     "metadata": {
      "needs_background": "light"
     },
     "output_type": "display_data"
    }
   ],
   "source": [
    "# Plot the value\n",
    "group_rank.mean().sort_values().plot(kind='barh')\n",
    "plt.show()"
   ]
  },
  {
   "cell_type": "markdown",
   "metadata": {},
   "source": [
    "Starwars Episode 3 has the highest rank compared to the other Starwars episodes."
   ]
  },
  {
   "cell_type": "markdown",
   "metadata": {},
   "source": [
    "## 5. Explore the variables of all Starwars Characters."
   ]
  },
  {
   "cell_type": "code",
   "execution_count": 60,
   "metadata": {},
   "outputs": [
    {
     "data": {
      "text/plain": [
       "Very favorably                                 610\n",
       "Somewhat favorably                             151\n",
       "Neither favorably nor unfavorably (neutral)     44\n",
       "Unfamiliar (N/A)                                15\n",
       "Somewhat unfavorably                             8\n",
       "Very unfavorably                                 1\n",
       "Name: Han, dtype: int64"
      ]
     },
     "execution_count": 60,
     "metadata": {},
     "output_type": "execute_result"
    }
   ],
   "source": [
    "# Check the data\n",
    "starwars['Han'].value_counts()"
   ]
  },
  {
   "cell_type": "markdown",
   "metadata": {},
   "source": [
    "#### From the result above, we can determine that the value of this variable is an ordinal type of data, we need to reassign the value to numeric for further analysis."
   ]
  },
  {
   "cell_type": "code",
   "execution_count": 61,
   "metadata": {},
   "outputs": [],
   "source": [
    "# Apply new values to the variable according to the rating\n",
    "mask_character = {'Very favorably': 5,\n",
    "                  'Somewhat favorably': 4,\n",
    "                  'Neither favorably nor unfavorably (neutral)': 3,\n",
    "                  'Somewhat unfavorably': 2,\n",
    "                  'Very unfavorably': 1,\n",
    "                  'Unfamiliar': 0\n",
    "                 }"
   ]
  },
  {
   "cell_type": "code",
   "execution_count": 62,
   "metadata": {},
   "outputs": [
    {
     "data": {
      "text/plain": [
       "15"
      ]
     },
     "execution_count": 62,
     "metadata": {},
     "output_type": "execute_result"
    }
   ],
   "source": [
    "# Get the index number by column\n",
    "starwars.columns.get_loc('Han')"
   ]
  },
  {
   "cell_type": "code",
   "execution_count": 63,
   "metadata": {},
   "outputs": [
    {
     "data": {
      "text/plain": [
       "28"
      ]
     },
     "execution_count": 63,
     "metadata": {},
     "output_type": "execute_result"
    }
   ],
   "source": [
    "# Get the index number by column\n",
    "starwars.columns.get_loc('Yoda')"
   ]
  },
  {
   "cell_type": "code",
   "execution_count": 64,
   "metadata": {},
   "outputs": [],
   "source": [
    "# Apply the mask range from 15:29, index no 29 will not be masked, iloc rules\n",
    "for i in list(range(15,29)):\n",
    "    starwars.iloc[:, i] = starwars.iloc[:, i].map(mask_character)"
   ]
  },
  {
   "cell_type": "code",
   "execution_count": 65,
   "metadata": {},
   "outputs": [
    {
     "data": {
      "text/plain": [
       "5.0    610\n",
       "NaN    372\n",
       "4.0    151\n",
       "3.0     44\n",
       "2.0      8\n",
       "1.0      1\n",
       "Name: Han, dtype: int64"
      ]
     },
     "execution_count": 65,
     "metadata": {},
     "output_type": "execute_result"
    }
   ],
   "source": [
    "# Recheck the data\n",
    "starwars['Han'].value_counts(dropna=False)"
   ]
  },
  {
   "cell_type": "code",
   "execution_count": 66,
   "metadata": {
    "scrolled": true
   },
   "outputs": [
    {
     "data": {
      "text/plain": [
       "5.0    605\n",
       "NaN    370\n",
       "4.0    144\n",
       "3.0     51\n",
       "2.0      8\n",
       "1.0      8\n",
       "Name: Yoda, dtype: int64"
      ]
     },
     "execution_count": 66,
     "metadata": {},
     "output_type": "execute_result"
    }
   ],
   "source": [
    "starwars['Yoda'].value_counts(dropna=False)"
   ]
  },
  {
   "cell_type": "code",
   "execution_count": 67,
   "metadata": {},
   "outputs": [],
   "source": [
    "# Group the data for further analysis\n",
    "group_char = starwars.loc[:, 'Han':'Yoda']"
   ]
  },
  {
   "cell_type": "code",
   "execution_count": 68,
   "metadata": {
    "scrolled": true
   },
   "outputs": [
    {
     "data": {
      "image/png": "[encoded data removed]",
      "text/plain": [
       "<Figure size 432x288 with 1 Axes>"
      ]
     },
     "metadata": {
      "needs_background": "light"
     },
     "output_type": "display_data"
    }
   ],
   "source": [
    "# Plot the data\n",
    "group_char.mean().sort_values().plot(kind='barh')\n",
    "plt.show()"
   ]
  },
  {
   "cell_type": "markdown",
   "metadata": {},
   "source": [
    "Han is the most favorite character amongst all other Starwars characters."
   ]
  },
  {
   "cell_type": "markdown",
   "metadata": {},
   "source": [
    "## 6. Explore the variable of \"Which character shot first?\"."
   ]
  },
  {
   "cell_type": "code",
   "execution_count": 69,
   "metadata": {},
   "outputs": [
    {
     "data": {
      "text/plain": [
       "NaN                                 358\n",
       "Han                                 325\n",
       "I don't understand this question    306\n",
       "Greedo                              197\n",
       "Name: Which character shot first?, dtype: int64"
      ]
     },
     "execution_count": 69,
     "metadata": {},
     "output_type": "execute_result"
    }
   ],
   "source": [
    "# Check the value of the variable\n",
    "starwars['Which character shot first?'].value_counts(dropna=False)"
   ]
  },
  {
   "cell_type": "code",
   "execution_count": 70,
   "metadata": {
    "scrolled": true
   },
   "outputs": [
    {
     "data": {
      "image/png": "[encoded data removed]",
      "text/plain": [
       "<Figure size 432x288 with 1 Axes>"
      ]
     },
     "metadata": {
      "needs_background": "light"
     },
     "output_type": "display_data"
    }
   ],
   "source": [
    "# Plot the data\n",
    "starwars['Which character shot first?'].value_counts().sort_values().plot(kind='barh')\n",
    "plt.show()"
   ]
  },
  {
   "cell_type": "markdown",
   "metadata": {},
   "source": [
    "## 7. Explore the variables of:\n",
    "\"Are you familiar with the Expanded Universe (EU)?\" <br>\n",
    "\"Are you a fan of EU?\"<br>\n",
    "\"Are you a fan of startrek?\"<br>"
   ]
  },
  {
   "cell_type": "code",
   "execution_count": 71,
   "metadata": {},
   "outputs": [
    {
     "data": {
      "text/plain": [
       "No     615\n",
       "NaN    358\n",
       "Yes    213\n",
       "Name: Are you familiar with EU?, dtype: int64"
      ]
     },
     "execution_count": 71,
     "metadata": {},
     "output_type": "execute_result"
    }
   ],
   "source": [
    "# Check the value of the variable\n",
    "starwars['Are you familiar with EU?'].value_counts(dropna=False)"
   ]
  },
  {
   "cell_type": "code",
   "execution_count": 72,
   "metadata": {},
   "outputs": [
    {
     "data": {
      "text/plain": [
       "NaN     973\n",
       "No      114\n",
       "Yes      98\n",
       "Yess      1\n",
       "Name: Are you a fan of EU?, dtype: int64"
      ]
     },
     "execution_count": 72,
     "metadata": {},
     "output_type": "execute_result"
    }
   ],
   "source": [
    "# Check the value of the variable\n",
    "starwars['Are you a fan of EU?'].value_counts(dropna=False)"
   ]
  },
  {
   "cell_type": "code",
   "execution_count": 73,
   "metadata": {},
   "outputs": [],
   "source": [
    "# Replace the typo value\n",
    "starwars['Are you a fan of EU?'].replace('Yess', 'Yes', inplace=True)"
   ]
  },
  {
   "cell_type": "code",
   "execution_count": 74,
   "metadata": {},
   "outputs": [
    {
     "data": {
      "text/plain": [
       "No     639\n",
       "Yes    426\n",
       "NaN    118\n",
       "yes      1\n",
       "Noo      1\n",
       "no       1\n",
       "Name: Are you a fan of startrek?, dtype: int64"
      ]
     },
     "execution_count": 74,
     "metadata": {},
     "output_type": "execute_result"
    }
   ],
   "source": [
    "# Check the value of the variable\n",
    "starwars['Are you a fan of startrek?'].value_counts(dropna=False)"
   ]
  },
  {
   "cell_type": "code",
   "execution_count": 75,
   "metadata": {},
   "outputs": [],
   "source": [
    "# Replace the typo value\n",
    "starwars['Are you a fan of startrek?'].replace('no ', 'No', inplace=True)\n",
    "starwars['Are you a fan of startrek?'].replace('Noo', 'No', inplace=True)\n",
    "starwars['Are you a fan of startrek?'].replace('yes', 'Yes', inplace=True)"
   ]
  },
  {
   "cell_type": "markdown",
   "metadata": {},
   "source": [
    "### Create dataframes for each value_counts variable"
   ]
  },
  {
   "cell_type": "code",
   "execution_count": 76,
   "metadata": {},
   "outputs": [
    {
     "data": {
      "text/html": [
       "<div>\n",
       "<style scoped>\n",
       "    .dataframe tbody tr th:only-of-type {\n",
       "        vertical-align: middle;\n",
       "    }\n",
       "\n",
       "    .dataframe tbody tr th {\n",
       "        vertical-align: top;\n",
       "    }\n",
       "\n",
       "    .dataframe thead th {\n",
       "        text-align: right;\n",
       "    }\n",
       "</style>\n",
       "<table border=\"1\" class=\"dataframe\">\n",
       "  <thead>\n",
       "    <tr style=\"text-align: right;\">\n",
       "      <th></th>\n",
       "      <th>No</th>\n",
       "      <th>Yes</th>\n",
       "    </tr>\n",
       "  </thead>\n",
       "  <tbody>\n",
       "    <tr>\n",
       "      <th>Familiar with EU</th>\n",
       "      <td>615</td>\n",
       "      <td>213</td>\n",
       "    </tr>\n",
       "  </tbody>\n",
       "</table>\n",
       "</div>"
      ],
      "text/plain": [
       "                   No  Yes\n",
       "Familiar with EU  615  213"
      ]
     },
     "execution_count": 76,
     "metadata": {},
     "output_type": "execute_result"
    }
   ],
   "source": [
    "familiar_EU = starwars['Are you familiar with EU?'].value_counts().to_frame('Familiar with EU').transpose()\n",
    "familiar_EU"
   ]
  },
  {
   "cell_type": "code",
   "execution_count": 77,
   "metadata": {},
   "outputs": [],
   "source": [
    "fan_EU = starwars['Are you a fan of EU?'].value_counts().to_frame('Fan of EU').transpose()\n",
    "fan_startrek = starwars['Are you a fan of startrek?'].value_counts().to_frame('Fan of Startrek').transpose()"
   ]
  },
  {
   "cell_type": "code",
   "execution_count": 78,
   "metadata": {},
   "outputs": [],
   "source": [
    "# To change the axis name, use this code\n",
    "#fan_startrek = starwars['Are you a fan of startrek?'].value_counts().rename_axis('Fan_of_Startrek').to_frame('counts').transpose()\n",
    "#fan_startrek"
   ]
  },
  {
   "cell_type": "code",
   "execution_count": 416,
   "metadata": {},
   "outputs": [
    {
     "data": {
      "text/html": [
       "<div>\n",
       "<style scoped>\n",
       "    .dataframe tbody tr th:only-of-type {\n",
       "        vertical-align: middle;\n",
       "    }\n",
       "\n",
       "    .dataframe tbody tr th {\n",
       "        vertical-align: top;\n",
       "    }\n",
       "\n",
       "    .dataframe thead th {\n",
       "        text-align: right;\n",
       "    }\n",
       "</style>\n",
       "<table border=\"1\" class=\"dataframe\">\n",
       "  <thead>\n",
       "    <tr style=\"text-align: right;\">\n",
       "      <th></th>\n",
       "      <th>No</th>\n",
       "      <th>Yes</th>\n",
       "    </tr>\n",
       "  </thead>\n",
       "  <tbody>\n",
       "    <tr>\n",
       "      <th>Familiar with EU</th>\n",
       "      <td>615</td>\n",
       "      <td>213</td>\n",
       "    </tr>\n",
       "    <tr>\n",
       "      <th>Fan of EU</th>\n",
       "      <td>114</td>\n",
       "      <td>99</td>\n",
       "    </tr>\n",
       "    <tr>\n",
       "      <th>Fan of Startrek</th>\n",
       "      <td>641</td>\n",
       "      <td>427</td>\n",
       "    </tr>\n",
       "  </tbody>\n",
       "</table>\n",
       "</div>"
      ],
      "text/plain": [
       "                   No  Yes\n",
       "Familiar with EU  615  213\n",
       "Fan of EU         114   99\n",
       "Fan of Startrek   641  427"
      ]
     },
     "execution_count": 416,
     "metadata": {},
     "output_type": "execute_result"
    }
   ],
   "source": [
    "merged_EU_startrek = pd.concat([familiar_EU, fan_EU, fan_startrek], axis=0)\n",
    "merged_EU_startrek"
   ]
  },
  {
   "cell_type": "code",
   "execution_count": 417,
   "metadata": {
    "scrolled": true
   },
   "outputs": [
    {
     "data": {
      "image/png": "[encoded data removed]",
      "text/plain": [
       "<Figure size 432x288 with 1 Axes>"
      ]
     },
     "metadata": {
      "needs_background": "light"
     },
     "output_type": "display_data"
    }
   ],
   "source": [
    "# Plot of merged fans\n",
    "merged_EU_startrek.plot(kind='barh')\n",
    "plt.title(\"Plot fo Merged Fans\")\n",
    "plt.show()"
   ]
  },
  {
   "cell_type": "markdown",
   "metadata": {},
   "source": [
    "## 8. Explore the variables of:\n",
    "Gender, Age, Income, and Education"
   ]
  },
  {
   "cell_type": "markdown",
   "metadata": {},
   "source": [
    "#### Gender"
   ]
  },
  {
   "cell_type": "code",
   "execution_count": 98,
   "metadata": {},
   "outputs": [
    {
     "data": {
      "text/plain": [
       "Female    546\n",
       "Male      496\n",
       "NaN       140\n",
       "female      2\n",
       "male        1\n",
       "F           1\n",
       "Name: Gender, dtype: int64"
      ]
     },
     "execution_count": 98,
     "metadata": {},
     "output_type": "execute_result"
    }
   ],
   "source": [
    "# Check the value of gender\n",
    "starwars['Gender'].value_counts(dropna=False)"
   ]
  },
  {
   "cell_type": "code",
   "execution_count": 99,
   "metadata": {},
   "outputs": [],
   "source": [
    "# Replace the typo values to the correct ones\n",
    "starwars['Gender'].replace('female', 'Female', inplace = True)\n",
    "starwars['Gender'].replace('male', 'Male', inplace = True)\n",
    "starwars['Gender'].replace('F', 'Female', inplace = True)"
   ]
  },
  {
   "cell_type": "code",
   "execution_count": 418,
   "metadata": {},
   "outputs": [
    {
     "data": {
      "text/plain": [
       "Female    549\n",
       "Male      497\n",
       "Name: Gender, dtype: int64"
      ]
     },
     "execution_count": 418,
     "metadata": {},
     "output_type": "execute_result"
    }
   ],
   "source": [
    "# Group the gender count into a variable\n",
    "gender_count = starwars['Gender'].value_counts()\n",
    "gender_count"
   ]
  },
  {
   "cell_type": "markdown",
   "metadata": {},
   "source": [
    "#### Age"
   ]
  },
  {
   "cell_type": "code",
   "execution_count": 173,
   "metadata": {
    "scrolled": true
   },
   "outputs": [
    {
     "data": {
      "text/plain": [
       "45-60    292\n",
       "> 60     269\n",
       "30-44    268\n",
       "18-29    217\n",
       "NaN      140\n",
       "Name: Age, dtype: int64"
      ]
     },
     "execution_count": 173,
     "metadata": {},
     "output_type": "execute_result"
    }
   ],
   "source": [
    "# Check the value of age\n",
    "starwars['Age'].value_counts(dropna=False)"
   ]
  },
  {
   "cell_type": "code",
   "execution_count": 174,
   "metadata": {},
   "outputs": [],
   "source": [
    "# Replace the typo values to the correct ones\n",
    "starwars['Age'].replace('500', '45-60', inplace=True)"
   ]
  },
  {
   "cell_type": "code",
   "execution_count": 248,
   "metadata": {
    "scrolled": false
   },
   "outputs": [
    {
     "data": {
      "text/plain": [
       "45-60    292\n",
       "> 60     269\n",
       "30-44    268\n",
       "18-29    217\n",
       "Name: Age, dtype: int64"
      ]
     },
     "execution_count": 248,
     "metadata": {},
     "output_type": "execute_result"
    }
   ],
   "source": [
    "# Group the gender count into a variable\n",
    "age_count = starwars['Age'].value_counts()\n",
    "age_count"
   ]
  },
  {
   "cell_type": "code",
   "execution_count": 419,
   "metadata": {},
   "outputs": [
    {
     "data": {
      "image/png": "[encoded data removed]",
      "text/plain": [
       "<Figure size 432x288 with 1 Axes>"
      ]
     },
     "metadata": {
      "needs_background": "light"
     },
     "output_type": "display_data"
    },
    {
     "data": {
      "image/png": "[encoded data removed]",
      "text/plain": [
       "<Figure size 432x288 with 1 Axes>"
      ]
     },
     "metadata": {
      "needs_background": "light"
     },
     "output_type": "display_data"
    }
   ],
   "source": [
    "# Plot of Gender and Age\n",
    "gender_count.plot(kind='barh', color=['pink','lightblue'])\n",
    "plt.title(\"Plot of Gender\")\n",
    "plt.show()\n",
    "\n",
    "age_count.plot(kind='barh', color=('lightblue', 'skyblue'))\n",
    "plt.title(\"Plot of Age\")\n",
    "plt.show()"
   ]
  },
  {
   "cell_type": "markdown",
   "metadata": {},
   "source": [
    "#### Income"
   ]
  },
  {
   "cell_type": "code",
   "execution_count": 265,
   "metadata": {},
   "outputs": [
    {
     "data": {
      "text/plain": [
       "NaN                    328\n",
       "$50,000 - $99,999      298\n",
       "$25,000 - $49,999      186\n",
       "$100,000 - $149,999    141\n",
       "$0 - $24,999           138\n",
       "$150,000+               95\n",
       "Name: Income, dtype: int64"
      ]
     },
     "execution_count": 265,
     "metadata": {},
     "output_type": "execute_result"
    }
   ],
   "source": [
    "# Check the value of income\n",
    "starwars['Income'].value_counts(dropna=False)"
   ]
  },
  {
   "cell_type": "code",
   "execution_count": 266,
   "metadata": {},
   "outputs": [
    {
     "data": {
      "text/plain": [
       "$50,000 - $99,999      298\n",
       "$25,000 - $49,999      186\n",
       "$100,000 - $149,999    141\n",
       "$0 - $24,999           138\n",
       "$150,000+               95\n",
       "Name: Income, dtype: int64"
      ]
     },
     "execution_count": 266,
     "metadata": {},
     "output_type": "execute_result"
    }
   ],
   "source": [
    "# Group the income count into a variable\n",
    "income_count = starwars['Income'].value_counts()\n",
    "income_count"
   ]
  },
  {
   "cell_type": "markdown",
   "metadata": {},
   "source": [
    "#### Education"
   ]
  },
  {
   "cell_type": "code",
   "execution_count": 270,
   "metadata": {
    "scrolled": true
   },
   "outputs": [
    {
     "data": {
      "text/plain": [
       "Some college or Associate degree    328\n",
       "Bachelor degree                     321\n",
       "Graduate degree                     275\n",
       "NaN                                 150\n",
       "High school degree                  105\n",
       "Less than high school degree          7\n",
       "Name: Education, dtype: int64"
      ]
     },
     "execution_count": 270,
     "metadata": {},
     "output_type": "execute_result"
    }
   ],
   "source": [
    "# Check the value of Education\n",
    "starwars['Education'].value_counts(dropna=False)"
   ]
  },
  {
   "cell_type": "code",
   "execution_count": 272,
   "metadata": {},
   "outputs": [
    {
     "data": {
      "text/plain": [
       "Some college or Associate degree    328\n",
       "Bachelor degree                     321\n",
       "Graduate degree                     275\n",
       "High school degree                  105\n",
       "Less than high school degree          7\n",
       "Name: Education, dtype: int64"
      ]
     },
     "execution_count": 272,
     "metadata": {},
     "output_type": "execute_result"
    }
   ],
   "source": [
    "# Group the education count into a variable\n",
    "education_count = starwars['Education'].value_counts()\n",
    "education_count"
   ]
  },
  {
   "cell_type": "code",
   "execution_count": 399,
   "metadata": {},
   "outputs": [
    {
     "data": {
      "image/png": "[encoded data removed]",
      "text/plain": [
       "<Figure size 432x288 with 1 Axes>"
      ]
     },
     "metadata": {
      "needs_background": "light"
     },
     "output_type": "display_data"
    },
    {
     "data": {
      "image/png": "[encoded data removed]",
      "text/plain": [
       "<Figure size 432x288 with 1 Axes>"
      ]
     },
     "metadata": {
      "needs_background": "light"
     },
     "output_type": "display_data"
    }
   ],
   "source": [
    "# Plot of Income and Education\n",
    "income_count.plot(kind='barh', color=('gray', 'lightgray'))\n",
    "plt.title(\"Plot of Income\")\n",
    "plt.show()\n",
    "\n",
    "education_count.plot(kind='barh', color=['burlywood'])\n",
    "plt.title(\"Plot of Education\")\n",
    "plt.show()"
   ]
  },
  {
   "cell_type": "markdown",
   "metadata": {},
   "source": [
    "## 9. Explore the variable of Location"
   ]
  },
  {
   "cell_type": "code",
   "execution_count": 420,
   "metadata": {},
   "outputs": [
    {
     "data": {
      "text/plain": [
       "East North Central    181\n",
       "Pacific               175\n",
       "South Atlantic        170\n",
       "Middle Atlantic       122\n",
       "West South Central    110\n",
       "West North Central     93\n",
       "Mountain               79\n",
       "New England            75\n",
       "East South Central     38\n",
       "Name: Location, dtype: int64"
      ]
     },
     "execution_count": 420,
     "metadata": {},
     "output_type": "execute_result"
    }
   ],
   "source": [
    "# Check the value of the data\n",
    "starwars['Location'].value_counts()"
   ]
  },
  {
   "cell_type": "code",
   "execution_count": 421,
   "metadata": {},
   "outputs": [
    {
     "data": {
      "image/png": "[encoded data removed]",
      "text/plain": [
       "<Figure size 432x288 with 1 Axes>"
      ]
     },
     "metadata": {
      "needs_background": "light"
     },
     "output_type": "display_data"
    }
   ],
   "source": [
    "# Plot the location\n",
    "starwars['Location'].value_counts().plot(kind='barh', color=['violet', 'pink'])\n",
    "plt.show()"
   ]
  },
  {
   "cell_type": "markdown",
   "metadata": {},
   "source": [
    "## Discover relationship between variables"
   ]
  },
  {
   "cell_type": "markdown",
   "metadata": {},
   "source": [
    "### Explore the relationship between being a Starwars fan and Gender"
   ]
  },
  {
   "cell_type": "code",
   "execution_count": 422,
   "metadata": {},
   "outputs": [],
   "source": [
    "# Map the Starwars fan and not fan as 0 and 1\n",
    "mask_fan_or_not = {'Yes': 1, 'No':0}\n",
    "starwars['Are you a starwars fan?'] = starwars['Are you a starwars fan?'].map(mask_fan_or_not)"
   ]
  },
  {
   "cell_type": "code",
   "execution_count": 423,
   "metadata": {},
   "outputs": [
    {
     "data": {
      "text/plain": [
       "1.0    552\n",
       "0.0    284\n",
       "Name: Are you a starwars fan?, dtype: int64"
      ]
     },
     "execution_count": 423,
     "metadata": {},
     "output_type": "execute_result"
    }
   ],
   "source": [
    "starwars['Are you a starwars fan?'].value_counts()"
   ]
  },
  {
   "cell_type": "code",
   "execution_count": 425,
   "metadata": {},
   "outputs": [],
   "source": [
    "# Mask for gender\n",
    "mask_female = starwars['Gender'] == 'Female'\n",
    "mask_male = starwars['Gender'] == 'Male'"
   ]
  },
  {
   "cell_type": "code",
   "execution_count": 426,
   "metadata": {},
   "outputs": [],
   "source": [
    "# Value counts for each gender\n",
    "gender_count = starwars['Gender'].value_counts()"
   ]
  },
  {
   "cell_type": "code",
   "execution_count": 427,
   "metadata": {},
   "outputs": [],
   "source": [
    "# Select the fan that is male\n",
    "male_fan = starwars.loc[mask_male, 'Are you a starwars fan?'].value_counts()\n",
    "# Select the fan that is female\n",
    "female_fan = starwars.loc[mask_female, 'Are you a starwars fan?'].value_counts()"
   ]
  },
  {
   "cell_type": "code",
   "execution_count": 428,
   "metadata": {},
   "outputs": [],
   "source": [
    "# For every male fan of gender count as Male, For every female fan of gender count as female\n",
    "rate = [male_fan[1]/float(gender_count['Male']), female_fan[1]/float(gender_count['Female'])]"
   ]
  },
  {
   "cell_type": "code",
   "execution_count": 429,
   "metadata": {
    "scrolled": true
   },
   "outputs": [
    {
     "data": {
      "image/png": "[encoded data removed]",
      "text/plain": [
       "<Figure size 432x288 with 1 Axes>"
      ]
     },
     "metadata": {
      "needs_background": "light"
     },
     "output_type": "display_data"
    }
   ],
   "source": [
    "plt.bar(list(range(2)), rate, color='lightblue')\n",
    "plt.xticks(list(range(2)), ['Male', 'Female'])\n",
    "plt.xlabel('Gender')\n",
    "plt.ylabel('Frequency of Fan number')\n",
    "plt.title('Gender comparison of Starwars Fan')\n",
    "plt.show()"
   ]
  },
  {
   "cell_type": "code",
   "execution_count": 430,
   "metadata": {},
   "outputs": [
    {
     "data": {
      "text/plain": [
       "60.96579476861167"
      ]
     },
     "execution_count": 430,
     "metadata": {},
     "output_type": "execute_result"
    }
   ],
   "source": [
    "# Percentage of Male Starwars Fan\n",
    "male_fan[1]/float(gender_count['Male'])*100"
   ]
  },
  {
   "cell_type": "code",
   "execution_count": 431,
   "metadata": {},
   "outputs": [
    {
     "data": {
      "text/plain": [
       "43.35154826958106"
      ]
     },
     "execution_count": 431,
     "metadata": {},
     "output_type": "execute_result"
    }
   ],
   "source": [
    "# Percentage of Female Starwars Fan\n",
    "female_fan[1]/float(gender_count['Female'])*100"
   ]
  },
  {
   "cell_type": "markdown",
   "metadata": {},
   "source": [
    "## Explore the relationship between Seen the movie with Starwars Fan"
   ]
  },
  {
   "cell_type": "code",
   "execution_count": 432,
   "metadata": {},
   "outputs": [
    {
     "data": {
      "text/plain": [
       "Index(['Resp ID', 'Have you seen the movie?', 'Are you a starwars fan?',\n",
       "       'Seen starwars Ep1', 'Seen starwars Ep2', 'Seen starwars Ep3',\n",
       "       'Seen starwars Ep4', 'Seen starwars Ep5', 'Seen starwars Ep6',\n",
       "       'Rank starwars Ep1', 'Rank starwars Ep2', 'Rank starwars Ep3',\n",
       "       'Rank starwars Ep4', 'Rank starwars Ep5', 'Rank starwars Ep6', 'Han',\n",
       "       'Luke', 'Princess', 'Anakin', 'Obi', 'Emperor', 'Darth', 'Lando',\n",
       "       'Boba', 'C3P0', 'R2D2', 'Jar', 'Padme', 'Yoda',\n",
       "       'Which character shot first?', 'Are you familiar with EU?',\n",
       "       'Are you a fan of EU?', 'Are you a fan of startrek?', 'Gender', 'Age',\n",
       "       'Income', 'Education', 'Location'],\n",
       "      dtype='object')"
      ]
     },
     "execution_count": 432,
     "metadata": {},
     "output_type": "execute_result"
    }
   ],
   "source": [
    "starwars.columns"
   ]
  },
  {
   "cell_type": "code",
   "execution_count": 433,
   "metadata": {},
   "outputs": [],
   "source": [
    "starwars['Have you seen the movie?'] = starwars['Have you seen the movie?'].map(mask_fan_or_not)"
   ]
  },
  {
   "cell_type": "code",
   "execution_count": 434,
   "metadata": {},
   "outputs": [
    {
     "data": {
      "text/plain": [
       "1    936\n",
       "0    250\n",
       "Name: Have you seen the movie?, dtype: int64"
      ]
     },
     "execution_count": 434,
     "metadata": {},
     "output_type": "execute_result"
    }
   ],
   "source": [
    "starwars['Have you seen the movie?'].value_counts()"
   ]
  },
  {
   "cell_type": "code",
   "execution_count": 435,
   "metadata": {},
   "outputs": [],
   "source": [
    "# fan count\n",
    "SW_fan_count = starwars['Are you a starwars fan?'].value_counts()\n",
    "# Yes, I am a fan\n",
    "I_am_a_fan = starwars['Are you a starwars fan?'] == 1\n",
    "I_am_not_a_fan = starwars['Are you a starwars fan?'] == 0"
   ]
  },
  {
   "cell_type": "code",
   "execution_count": 436,
   "metadata": {},
   "outputs": [
    {
     "data": {
      "text/plain": [
       "False    634\n",
       "True     552\n",
       "Name: Are you a starwars fan?, dtype: int64"
      ]
     },
     "execution_count": 436,
     "metadata": {},
     "output_type": "execute_result"
    }
   ],
   "source": [
    "I_am_a_fan.value_counts()"
   ]
  },
  {
   "cell_type": "code",
   "execution_count": 437,
   "metadata": {},
   "outputs": [],
   "source": [
    "# Drop na is important here, or the plot will be flat later\n",
    "seen_fan = starwars.dropna().loc[I_am_a_fan, 'Have you seen the movie?'].value_counts()\n",
    "seen_not_fan = starwars.dropna().loc[I_am_not_a_fan, 'Have you seen the movie?'].value_counts()"
   ]
  },
  {
   "cell_type": "code",
   "execution_count": 438,
   "metadata": {},
   "outputs": [],
   "source": [
    "rate_2 = [seen_fan[1]/float(SW_fan_count[1]), seen_not_fan[1]/float(SW_fan_count[0])]"
   ]
  },
  {
   "cell_type": "code",
   "execution_count": 439,
   "metadata": {
    "scrolled": true
   },
   "outputs": [
    {
     "data": {
      "text/plain": [
       "Text(0.5, 1.0, 'Seen the Movie and Fan of Starwars')"
      ]
     },
     "execution_count": 439,
     "metadata": {},
     "output_type": "execute_result"
    },
    {
     "data": {
      "image/png": "[encoded data removed]",
      "text/plain": [
       "<Figure size 432x288 with 1 Axes>"
      ]
     },
     "metadata": {
      "needs_background": "light"
     },
     "output_type": "display_data"
    }
   ],
   "source": [
    "plt.bar(list(range(2)), rate_2, color='grey')\n",
    "plt.xticks(list(range(2)), ['Yes', 'No'])\n",
    "plt.xlabel('Fan')\n",
    "plt.ylabel('Seen the movies?')\n",
    "plt.title('Seen the Movie and Fan of Starwars')"
   ]
  },
  {
   "cell_type": "code",
   "execution_count": 440,
   "metadata": {},
   "outputs": [
    {
     "data": {
      "text/plain": [
       "21.3768115942029"
      ]
     },
     "execution_count": 440,
     "metadata": {},
     "output_type": "execute_result"
    }
   ],
   "source": [
    "# Percentage of seen movie and a Fan\n",
    "seen_fan[1]/float(SW_fan_count[1])*100"
   ]
  },
  {
   "cell_type": "code",
   "execution_count": 441,
   "metadata": {},
   "outputs": [
    {
     "data": {
      "text/plain": [
       "2.717391304347826"
      ]
     },
     "execution_count": 441,
     "metadata": {},
     "output_type": "execute_result"
    }
   ],
   "source": [
    "# Percentage of seen movie but not a fan\n",
    "seen_not_fan[1]/float(SW_fan_count[1])*100"
   ]
  },
  {
   "cell_type": "markdown",
   "metadata": {},
   "source": [
    "## Explore the relationship between Familiar with Expanded Universe and A fan of EU"
   ]
  },
  {
   "cell_type": "code",
   "execution_count": 442,
   "metadata": {},
   "outputs": [],
   "source": [
    "# Mapping the familiar or not into Boolean value\n",
    "starwars['Are you familiar with EU?'] = starwars['Are you familiar with EU?'].map(mask_fan_or_not)"
   ]
  },
  {
   "cell_type": "code",
   "execution_count": 443,
   "metadata": {},
   "outputs": [
    {
     "data": {
      "text/plain": [
       "0.0    615\n",
       "1.0    213\n",
       "Name: Are you familiar with EU?, dtype: int64"
      ]
     },
     "execution_count": 443,
     "metadata": {},
     "output_type": "execute_result"
    }
   ],
   "source": [
    "starwars['Are you familiar with EU?'].value_counts()"
   ]
  },
  {
   "cell_type": "code",
   "execution_count": 444,
   "metadata": {},
   "outputs": [],
   "source": [
    "# Select all fan and count the total\n",
    "fan_count = starwars['Are you a fan of EU?'].value_counts()\n",
    "# Group the fan\n",
    "mask_fan = starwars['Are you a fan of EU?'] == 'Yes'\n",
    "# Group the not fan\n",
    "mask_not_fan = starwars['Are you a fan of EU?'] == 'No'"
   ]
  },
  {
   "cell_type": "code",
   "execution_count": 445,
   "metadata": {},
   "outputs": [],
   "source": [
    "# Select the fan that is familiar with EU\n",
    "fan_and_familiar = starwars.dropna().loc[mask_fan, 'Are you familiar with EU?'].value_counts()\n",
    "# Select the not fan but is familiar with EU\n",
    "not_fan_but_familiar = starwars.dropna().loc[mask_not_fan, 'Are you familiar with EU?'].value_counts()"
   ]
  },
  {
   "cell_type": "code",
   "execution_count": 446,
   "metadata": {},
   "outputs": [],
   "source": [
    "rate_1 = [fan_and_familiar[1]/float(fan_count['Yes']), [not_fan_but_familiar[1]/float(fan_count['No'])]]"
   ]
  },
  {
   "cell_type": "code",
   "execution_count": 447,
   "metadata": {
    "scrolled": true
   },
   "outputs": [
    {
     "data": {
      "text/plain": [
       "Text(0.5, 1.0, 'Familiar with EU and Fan of EU')"
      ]
     },
     "execution_count": 447,
     "metadata": {},
     "output_type": "execute_result"
    },
    {
     "data": {
      "image/png": "[encoded data removed]",
      "text/plain": [
       "<Figure size 432x288 with 1 Axes>"
      ]
     },
     "metadata": {
      "needs_background": "light"
     },
     "output_type": "display_data"
    }
   ],
   "source": [
    "plt.bar(list(range(2)), rate_1, color='pink')\n",
    "plt.xticks(list(range(2)), ['Yes', 'No'])\n",
    "plt.xlabel('Fan of EU')\n",
    "plt.ylabel('Familiar with EU')\n",
    "plt.title('Familiar with EU and Fan of EU')"
   ]
  },
  {
   "cell_type": "code",
   "execution_count": 448,
   "metadata": {},
   "outputs": [
    {
     "data": {
      "text/plain": [
       "65.65656565656566"
      ]
     },
     "execution_count": 448,
     "metadata": {},
     "output_type": "execute_result"
    }
   ],
   "source": [
    "# Percentage of fan and familiar\n",
    "fan_and_familiar[1]/float(fan_count['Yes'])*100"
   ]
  },
  {
   "cell_type": "code",
   "execution_count": 449,
   "metadata": {},
   "outputs": [
    {
     "data": {
      "text/plain": [
       "59.64912280701754"
      ]
     },
     "execution_count": 449,
     "metadata": {},
     "output_type": "execute_result"
    }
   ],
   "source": [
    "# Percentage of not fan but familiar\n",
    "not_fan_but_familiar[1]/float(fan_count['No'])*100"
   ]
  },
  {
   "cell_type": "markdown",
   "metadata": {},
   "source": [
    "## Explore people's Demographic towards Starwars Character"
   ]
  },
  {
   "cell_type": "code",
   "execution_count": 450,
   "metadata": {},
   "outputs": [
    {
     "data": {
      "image/png": "[encoded data removed]",
      "text/plain": [
       "<Figure size 1080x1080 with 16 Axes>"
      ]
     },
     "metadata": {
      "needs_background": "light"
     },
     "output_type": "display_data"
    }
   ],
   "source": [
    "group_char.hist(figsize=(15,15))\n",
    "plt.show()"
   ]
  },
  {
   "cell_type": "code",
   "execution_count": null,
   "metadata": {},
   "outputs": [],
   "source": []
  },
  {
   "cell_type": "code",
   "execution_count": null,
   "metadata": {},
   "outputs": [],
   "source": []
  },
  {
   "cell_type": "code",
   "execution_count": null,
   "metadata": {},
   "outputs": [],
   "source": []
  }
 ],
 "metadata": {
  "kernelspec": {
   "display_name": "Python 3",
   "language": "python",
   "name": "python3"
  },
  "language_info": {
   "codemirror_mode": {
    "name": "ipython",
    "version": 3
   },
   "file_extension": ".py",
   "mimetype": "text/x-python",
   "name": "python",
   "nbconvert_exporter": "python",
   "pygments_lexer": "ipython3",
   "version": "3.7.6"
  }
 },
 "nbformat": 4,
 "nbformat_minor": 4
}
